{
 "cells": [
  {
   "cell_type": "code",
   "execution_count": 1,
   "metadata": {},
   "outputs": [],
   "source": [
    "import pandas as pd\n",
    "import numpy as np\n",
    "import seaborn as sns\n",
    "import matplotlib.pyplot as plt\n",
    "from scipy.stats import spearmanr\n",
    "import datetime\n",
    "from datetime import timedelta\n",
    "from mlxtend.preprocessing import TransactionEncoder\n",
    "from mlxtend.frequent_patterns import apriori, association_rules\n",
    "from mlxtend.frequent_patterns import apriori\n",
    "import warnings\n",
    "from scipy import stats\n",
    "from sklearn import preprocessing, metrics, svm\n",
    "from sklearn.linear_model import LogisticRegression\n",
    "warnings.filterwarnings('ignore')\n",
    "pd.set_option('display.min_rows', 30)\n",
    "pd.set_option('display.max_rows',150)\n",
    "pd.set_option('display.width', 1000)\n",
    "\n",
    "# Useful classes to have easier access to data features\n",
    "class ColumnsInput:\n",
    "    barcode = 'ddc_barcode'\n",
    "    ipcode = 'ddc_ipcode'\n",
    "    machine = 'ddc_mch_code'\n",
    "    machine_side = 'ddc_mch_side'\n",
    "    event = 'ddc_ev_subcode'\n",
    "    time = 'ddc_ev_timestamp'\n",
    "    \n",
    "    \n",
    "class ColumnsOutput:\n",
    "    c_machine = 'c_machine' \n",
    "    event_delta_time = 'event_delta_time'\n",
    "    day = 'y-m-day'\n",
    "    month = 'month'"
   ]
  },
  {
   "cell_type": "code",
   "execution_count": 2,
   "metadata": {},
   "outputs": [],
   "source": [
    "df = pd.read_csv('Data/preprocessed_data_2022.csv')"
   ]
  },
  {
   "cell_type": "code",
   "execution_count": 15,
   "metadata": {},
   "outputs": [
    {
     "data": {
      "text/html": [
       "<div>\n",
       "<style scoped>\n",
       "    .dataframe tbody tr th:only-of-type {\n",
       "        vertical-align: middle;\n",
       "    }\n",
       "\n",
       "    .dataframe tbody tr th {\n",
       "        vertical-align: top;\n",
       "    }\n",
       "\n",
       "    .dataframe thead th {\n",
       "        text-align: right;\n",
       "    }\n",
       "</style>\n",
       "<table border=\"1\" class=\"dataframe\">\n",
       "  <thead>\n",
       "    <tr style=\"text-align: right;\">\n",
       "      <th></th>\n",
       "      <th>Unnamed: 0</th>\n",
       "      <th>ddc_barcode</th>\n",
       "      <th>ddc_ipcode</th>\n",
       "      <th>ddc_mch_code</th>\n",
       "      <th>ddc_mch_side</th>\n",
       "      <th>ddc_ev_subcode</th>\n",
       "      <th>ddc_ev_timestamp</th>\n",
       "      <th>c_machine</th>\n",
       "      <th>month</th>\n",
       "      <th>y-m-day</th>\n",
       "    </tr>\n",
       "  </thead>\n",
       "  <tbody>\n",
       "    <tr>\n",
       "      <th>0</th>\n",
       "      <td>0</td>\n",
       "      <td>9439809283</td>\n",
       "      <td>24453</td>\n",
       "      <td>C504</td>\n",
       "      <td>R</td>\n",
       "      <td>OP_PRESS_STOP_PAUSE_3_STOP</td>\n",
       "      <td>2022-10-10 00:00:00</td>\n",
       "      <td>True</td>\n",
       "      <td>10</td>\n",
       "      <td>22-10-10</td>\n",
       "    </tr>\n",
       "    <tr>\n",
       "      <th>1</th>\n",
       "      <td>1</td>\n",
       "      <td>9439809363</td>\n",
       "      <td>24453</td>\n",
       "      <td>C504</td>\n",
       "      <td>R</td>\n",
       "      <td>OP_PRESS_STOP_PAUSE_3_STOP</td>\n",
       "      <td>2022-10-10 00:00:00</td>\n",
       "      <td>True</td>\n",
       "      <td>10</td>\n",
       "      <td>22-10-10</td>\n",
       "    </tr>\n",
       "    <tr>\n",
       "      <th>13</th>\n",
       "      <td>13</td>\n",
       "      <td>9439808785</td>\n",
       "      <td>24453</td>\n",
       "      <td>C504</td>\n",
       "      <td>L</td>\n",
       "      <td>CURING_OFF_STOP</td>\n",
       "      <td>2022-10-10 00:00:00</td>\n",
       "      <td>True</td>\n",
       "      <td>10</td>\n",
       "      <td>22-10-10</td>\n",
       "    </tr>\n",
       "    <tr>\n",
       "      <th>2788</th>\n",
       "      <td>2788</td>\n",
       "      <td>9439808706</td>\n",
       "      <td>24453</td>\n",
       "      <td>C504</td>\n",
       "      <td>R</td>\n",
       "      <td>CURING_ON_STOP</td>\n",
       "      <td>2022-10-10 00:06:46</td>\n",
       "      <td>True</td>\n",
       "      <td>10</td>\n",
       "      <td>22-10-10</td>\n",
       "    </tr>\n",
       "    <tr>\n",
       "      <th>2789</th>\n",
       "      <td>2789</td>\n",
       "      <td>9439808706</td>\n",
       "      <td>24453</td>\n",
       "      <td>C504</td>\n",
       "      <td>R</td>\n",
       "      <td>CURING_OFF_START</td>\n",
       "      <td>2022-10-10 00:06:46</td>\n",
       "      <td>True</td>\n",
       "      <td>10</td>\n",
       "      <td>22-10-10</td>\n",
       "    </tr>\n",
       "  </tbody>\n",
       "</table>\n",
       "</div>"
      ],
      "text/plain": [
       "      Unnamed: 0 ddc_barcode ddc_ipcode ddc_mch_code ddc_mch_side              ddc_ev_subcode     ddc_ev_timestamp  c_machine  month   y-m-day\n",
       "0              0  9439809283      24453         C504            R  OP_PRESS_STOP_PAUSE_3_STOP  2022-10-10 00:00:00       True     10  22-10-10\n",
       "1              1  9439809363      24453         C504            R  OP_PRESS_STOP_PAUSE_3_STOP  2022-10-10 00:00:00       True     10  22-10-10\n",
       "13            13  9439808785      24453         C504            L             CURING_OFF_STOP  2022-10-10 00:00:00       True     10  22-10-10\n",
       "2788        2788  9439808706      24453         C504            R              CURING_ON_STOP  2022-10-10 00:06:46       True     10  22-10-10\n",
       "2789        2789  9439808706      24453         C504            R            CURING_OFF_START  2022-10-10 00:06:46       True     10  22-10-10"
      ]
     },
     "execution_count": 15,
     "metadata": {},
     "output_type": "execute_result"
    }
   ],
   "source": [
    "df_per_machine = []\n",
    "for mach in df[ColumnsInput.machine].unique():\n",
    "    df_per_machine.append(df[df[ColumnsInput.machine] == mach])\n",
    "df_per_machine[0].head()"
   ]
  },
  {
   "cell_type": "code",
   "execution_count": 17,
   "metadata": {},
   "outputs": [],
   "source": [
    "for df_m in df_per_machine:\n",
    "    save = df_m.to_csv('Data/data_per_machine/2022/'+str(df_m[ColumnsInput.machine].unique()[0])+'.csv', index=False)"
   ]
  },
  {
   "cell_type": "code",
   "execution_count": 3,
   "metadata": {},
   "outputs": [
    {
     "data": {
      "text/plain": [
       "337"
      ]
     },
     "execution_count": 3,
     "metadata": {},
     "output_type": "execute_result"
    }
   ],
   "source": [
    "len(df[ColumnsInput.ipcode].unique())"
   ]
  },
  {
   "cell_type": "code",
   "execution_count": 4,
   "metadata": {},
   "outputs": [],
   "source": [
    "for ipcode in df[ColumnsInput.ipcode].unique():\n",
    "    save = df[df[ColumnsInput.ipcode] == ipcode]\n",
    "    save_ = save.to_csv('Data/data_per_ipcode/2022/'+str(ipcode)+'.csv', index=False)"
   ]
  },
  {
   "cell_type": "code",
   "execution_count": null,
   "metadata": {},
   "outputs": [],
   "source": []
  }
 ],
 "metadata": {
  "kernelspec": {
   "display_name": "Python 3",
   "language": "python",
   "name": "python3"
  },
  "language_info": {
   "codemirror_mode": {
    "name": "ipython",
    "version": 3
   },
   "file_extension": ".py",
   "mimetype": "text/x-python",
   "name": "python",
   "nbconvert_exporter": "python",
   "pygments_lexer": "ipython3",
   "version": "3.11.6"
  }
 },
 "nbformat": 4,
 "nbformat_minor": 2
}
