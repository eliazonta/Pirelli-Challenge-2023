{
 "cells": [
  {
   "cell_type": "code",
   "execution_count": 1,
   "metadata": {},
   "outputs": [],
   "source": [
    "import pandas as pd\n",
    "import numpy as np\n",
    "import matplotlib.pyplot as plt\n",
    "import datetime\n",
    "from datetime import timedelta\n",
    "import warnings\n",
    "warnings.filterwarnings('ignore')\n",
    "pd.set_option('display.min_rows', 30)\n",
    "pd.set_option('display.max_rows',80)\n",
    "pd.set_option('display.width', 1000)\n",
    "\n",
    "# Useful classes to have easier access to data features\n",
    "class ColumnsInput:\n",
    "    barcode = 'ddc_barcode'\n",
    "    ipcode = 'ddc_ipcode'\n",
    "    machine = 'ddc_mch_code'\n",
    "    machine_side = 'ddc_mch_side'\n",
    "    event = 'ddc_ev_subcode'\n",
    "    time = 'ddc_ev_timestamp'\n",
    "    \n",
    "    \n",
    "class ColumnsOutput:\n",
    "    c_machine = 'c_machine' \n",
    "    event_delta_time = 'event_delta_time'\n",
    "    day = 'y-m-day'\n",
    "    month = 'month'"
   ]
  },
  {
   "cell_type": "code",
   "execution_count": 2,
   "metadata": {},
   "outputs": [],
   "source": [
    "df=pd.read_csv(\"Data/raw_data_2022.csv\", low_memory=False)"
   ]
  },
  {
   "cell_type": "code",
   "execution_count": 3,
   "metadata": {},
   "outputs": [
    {
     "data": {
      "text/plain": [
       "Index(['Unnamed: 0', 'ddc_barcode', 'ddc_ipcode', 'ddc_mch_code', 'ddc_mch_side', 'ddc_ev_subcode', 'ddc_ev_timestamp', 'c_machine', 'month', 'y-m-day'], dtype='object')"
      ]
     },
     "execution_count": 3,
     "metadata": {},
     "output_type": "execute_result"
    }
   ],
   "source": [
    "df[ColumnsOutput.c_machine] = df[ColumnsInput.machine].str.startswith('C')\n",
    "df_by_machine = df.groupby([ColumnsInput.machine])[ColumnsInput.barcode].nunique().reset_index()\n",
    "col_c_machine = 'c_machine'\n",
    "df_by_machine[col_c_machine] = df_by_machine[ColumnsInput.machine].str.startswith('C')\n",
    "df[ColumnsInput.time] = pd.to_datetime(df[ColumnsInput.time])\n",
    "df[ColumnsOutput.month] = df[ColumnsInput.time].dt.strftime('%m')\n",
    "df[ColumnsOutput.day] = df[ColumnsInput.time].dt.strftime('%y-%m-%d')\n",
    "df.columns"
   ]
  },
  {
   "cell_type": "code",
   "execution_count": 4,
   "metadata": {},
   "outputs": [
    {
     "data": {
      "text/plain": [
       "29885613"
      ]
     },
     "execution_count": 4,
     "metadata": {},
     "output_type": "execute_result"
    }
   ],
   "source": [
    "# Data sample\n",
    "save_output_df = df.to_csv('Data/preprocessed_data_2022.csv', index=False)\n",
    "del df\n",
    "df = pd.read_csv('Data/preprocessed_data_2022.csv', low_memory=False)\n",
    "len(df)"
   ]
  }
 ],
 "metadata": {
  "kernelspec": {
   "display_name": "Python 3",
   "language": "python",
   "name": "python3"
  },
  "language_info": {
   "codemirror_mode": {
    "name": "ipython",
    "version": 3
   },
   "file_extension": ".py",
   "mimetype": "text/x-python",
   "name": "python",
   "nbconvert_exporter": "python",
   "pygments_lexer": "ipython3",
   "version": "3.11.6"
  }
 },
 "nbformat": 4,
 "nbformat_minor": 2
}
