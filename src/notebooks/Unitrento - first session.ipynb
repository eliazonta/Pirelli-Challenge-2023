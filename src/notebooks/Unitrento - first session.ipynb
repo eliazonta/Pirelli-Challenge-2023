{
 "cells": [
  {
   "cell_type": "code",
   "execution_count": 12,
   "id": "a63cf37c-8d80-4e5c-a9d0-278e4409b78a",
   "metadata": {
    "tags": []
   },
   "outputs": [],
   "source": [
    "import pandas as pd\n",
    "pd.set_option('display.max_rows',500)"
   ]
  },
  {
   "cell_type": "code",
   "execution_count": 3,
   "id": "8b760247-7e2c-4eeb-855a-3dcb211db8ac",
   "metadata": {
    "tags": []
   },
   "outputs": [],
   "source": [
    "df=pd.read_parquet(\"s3://unitrento/dc_events_timestamp/year=2021/month=12/day=21/output.snappy.parquet\")"
   ]
  },
  {
   "cell_type": "code",
   "execution_count": 27,
   "id": "aac05afc-ee76-434b-89fc-e7b0d12f25f4",
   "metadata": {
    "tags": []
   },
   "outputs": [],
   "source": [
    "class ColumnsInput:\n",
    "    barcode = 'ddc_barcode'\n",
    "    ipcode = 'ddc_ipcode'\n",
    "    machine = 'ddc_mch_code'\n",
    "    machine_side = 'ddc_mch_side'\n",
    "    event = 'ddc_ev_subcode'\n",
    "    time = 'ddc_ev_timestamp'\n",
    "    \n",
    "    \n",
    "class ColumnsOutput:\n",
    "    c_machine = 'c_machine'    "
   ]
  },
  {
   "cell_type": "code",
   "execution_count": 28,
   "id": "b98eed93-2fd5-4377-b9b1-a3f6e3747fb1",
   "metadata": {
    "tags": []
   },
   "outputs": [
    {
     "data": {
      "text/plain": [
       "Index(['ddc_barcode', 'ddc_ipcode', 'ddc_mch_code', 'ddc_mch_side',\n",
       "       'ddc_ev_subcode', 'ddc_ev_timestamp', 'c_machine'],\n",
       "      dtype='object')"
      ]
     },
     "execution_count": 28,
     "metadata": {},
     "output_type": "execute_result"
    }
   ],
   "source": [
    "df[ColumnsOutput.c_machine] = df[ColumnsInput.machine].str.startswith('C')\n",
    "df.columns"
   ]
  },
  {
   "cell_type": "code",
   "execution_count": 6,
   "id": "69e1c028-0f77-47eb-93f8-4e8957b262fb",
   "metadata": {
    "tags": []
   },
   "outputs": [
    {
     "data": {
      "text/html": [
       "<div>\n",
       "<style scoped>\n",
       "    .dataframe tbody tr th:only-of-type {\n",
       "        vertical-align: middle;\n",
       "    }\n",
       "\n",
       "    .dataframe tbody tr th {\n",
       "        vertical-align: top;\n",
       "    }\n",
       "\n",
       "    .dataframe thead th {\n",
       "        text-align: right;\n",
       "    }\n",
       "</style>\n",
       "<table border=\"1\" class=\"dataframe\">\n",
       "  <thead>\n",
       "    <tr style=\"text-align: right;\">\n",
       "      <th></th>\n",
       "      <th>ddc_barcode</th>\n",
       "    </tr>\n",
       "  </thead>\n",
       "  <tbody>\n",
       "    <tr>\n",
       "      <th>count</th>\n",
       "      <td>73942</td>\n",
       "    </tr>\n",
       "    <tr>\n",
       "      <th>unique</th>\n",
       "      <td>2214</td>\n",
       "    </tr>\n",
       "    <tr>\n",
       "      <th>top</th>\n",
       "      <td>9435414666</td>\n",
       "    </tr>\n",
       "    <tr>\n",
       "      <th>freq</th>\n",
       "      <td>39</td>\n",
       "    </tr>\n",
       "  </tbody>\n",
       "</table>\n",
       "</div>"
      ],
      "text/plain": [
       "       ddc_barcode\n",
       "count        73942\n",
       "unique        2214\n",
       "top     9435414666\n",
       "freq            39"
      ]
     },
     "execution_count": 6,
     "metadata": {},
     "output_type": "execute_result"
    }
   ],
   "source": [
    "df[[ColumnsInput.barcode]].describe()"
   ]
  },
  {
   "cell_type": "markdown",
   "id": "71b8dd67-7b9d-4db6-9b99-7c6971ce5e41",
   "metadata": {},
   "source": [
    "### How many tyre per press?\n",
    "Every machine has two sides that can work in parallel, the entire cycle is usually between 20-40 minutes."
   ]
  },
  {
   "cell_type": "code",
   "execution_count": 13,
   "id": "bccfd02f-412f-4c94-8b63-dd1ff2692ab3",
   "metadata": {
    "tags": []
   },
   "outputs": [
    {
     "data": {
      "text/plain": [
       "ddc_mch_code  ddc_mch_side\n",
       "1201          L               25\n",
       "              R               25\n",
       "1202          L               29\n",
       "              R               26\n",
       "1204          L                2\n",
       "1206          L               16\n",
       "              R               14\n",
       "1207          L               16\n",
       "              R               16\n",
       "1302          L               35\n",
       "              R               32\n",
       "1303          L               21\n",
       "1304          R               20\n",
       "1307          L               30\n",
       "              R               30\n",
       "1401          L                5\n",
       "              R               14\n",
       "1405          L               25\n",
       "              R               24\n",
       "1503          L               29\n",
       "1504          R               21\n",
       "1505          L               29\n",
       "              R               24\n",
       "1506          R               18\n",
       "1507          L                1\n",
       "C103          L               19\n",
       "              R               19\n",
       "C104          L               17\n",
       "              R               17\n",
       "C105          L               33\n",
       "              R               22\n",
       "C109          L               34\n",
       "              R               45\n",
       "C110          L               44\n",
       "              R               44\n",
       "C111          R               41\n",
       "C201          L               41\n",
       "              R               41\n",
       "C202          L               46\n",
       "              R               46\n",
       "C203          L               39\n",
       "              R               39\n",
       "C204          L               29\n",
       "              R               28\n",
       "C207          L               46\n",
       "              R               46\n",
       "C208          L               43\n",
       "              R               43\n",
       "C209          L               47\n",
       "              R               47\n",
       "C210          L               35\n",
       "              R               35\n",
       "C301          L               26\n",
       "              R               26\n",
       "C302          L               25\n",
       "              R               25\n",
       "C303          L                1\n",
       "              R                2\n",
       "C304          L               26\n",
       "              R               26\n",
       "C305          L               17\n",
       "              R               11\n",
       "C310          L                1\n",
       "              R                1\n",
       "C311          L               21\n",
       "              R               21\n",
       "C402          L               22\n",
       "              R               22\n",
       "C403          L                3\n",
       "C404          R                1\n",
       "C405          L               14\n",
       "              R               14\n",
       "C407          L               20\n",
       "              R               20\n",
       "C410          L               15\n",
       "              R               15\n",
       "C411          L               20\n",
       "              R               20\n",
       "C412          L               19\n",
       "              R               19\n",
       "C502          L               22\n",
       "              R               22\n",
       "C503          L                2\n",
       "C508          L               22\n",
       "              R               22\n",
       "C509          L               14\n",
       "              R               14\n",
       "C511          L                3\n",
       "              R                3\n",
       "C512          L               15\n",
       "              R               15\n",
       "C601          L                4\n",
       "              R                4\n",
       "C602          L               15\n",
       "              R               15\n",
       "C603          L               16\n",
       "              R               16\n",
       "C606          L                9\n",
       "              R                8\n",
       "C610          L                1\n",
       "C612          L                3\n",
       "              R                3\n",
       "Name: ddc_barcode, dtype: int64"
      ]
     },
     "execution_count": 13,
     "metadata": {},
     "output_type": "execute_result"
    }
   ],
   "source": [
    "df.groupby([ColumnsInput.machine,ColumnsInput.machine_side])[ColumnsInput.barcode].nunique()"
   ]
  },
  {
   "cell_type": "markdown",
   "id": "4d1cccff-2df8-4616-b688-386ed627aa5e",
   "metadata": {},
   "source": [
    "### How many kind of tyres per machine?\n",
    "Usually a single press cures a single recipe (ipcode) during a single day.\n",
    "Changes of ipcode are avoided, because they requires a manual operation, thus human time"
   ]
  },
  {
   "cell_type": "code",
   "execution_count": 9,
   "id": "416a4816-8ba2-44ca-8f6d-54b10882cabd",
   "metadata": {
    "tags": []
   },
   "outputs": [
    {
     "data": {
      "text/plain": [
       "ddc_mch_code\n",
       "1201    1\n",
       "1202    1\n",
       "1204    1\n",
       "1206    1\n",
       "1207    1\n",
       "1302    2\n",
       "1303    1\n",
       "1304    1\n",
       "1307    1\n",
       "1401    1\n",
       "1405    1\n",
       "1503    1\n",
       "1504    1\n",
       "1505    2\n",
       "1506    1\n",
       "1507    1\n",
       "C103    1\n",
       "C104    1\n",
       "C105    1\n",
       "C109    1\n",
       "C110    1\n",
       "C111    1\n",
       "C201    1\n",
       "C202    1\n",
       "C203    1\n",
       "C204    1\n",
       "C207    1\n",
       "C208    1\n",
       "C209    1\n",
       "C210    1\n",
       "C301    1\n",
       "C302    1\n",
       "C303    1\n",
       "C304    1\n",
       "C305    1\n",
       "C310    1\n",
       "C311    1\n",
       "C402    1\n",
       "C403    1\n",
       "C404    1\n",
       "C405    1\n",
       "C407    1\n",
       "C410    1\n",
       "C411    1\n",
       "C412    1\n",
       "C502    1\n",
       "C503    1\n",
       "C508    1\n",
       "C509    1\n",
       "C511    1\n",
       "C512    1\n",
       "C601    1\n",
       "C602    1\n",
       "C603    1\n",
       "C606    1\n",
       "C610    1\n",
       "C612    1\n",
       "Name: ddc_ipcode, dtype: int64"
      ]
     },
     "execution_count": 9,
     "metadata": {},
     "output_type": "execute_result"
    }
   ],
   "source": [
    "df.groupby([ColumnsInput.machine])[ColumnsInput.ipcode].nunique()"
   ]
  },
  {
   "cell_type": "markdown",
   "id": "8aa8e5c6-1d55-4677-9d86-564c60018765",
   "metadata": {},
   "source": [
    "### How to identify the 'old' presses?"
   ]
  },
  {
   "cell_type": "code",
   "execution_count": 17,
   "id": "3302da84-756f-430f-8611-7220353b202f",
   "metadata": {
    "tags": []
   },
   "outputs": [
    {
     "data": {
      "text/plain": [
       "c_machine\n",
       "False    32.937500\n",
       "True     41.146341\n",
       "Name: ddc_barcode, dtype: float64"
      ]
     },
     "execution_count": 17,
     "metadata": {},
     "output_type": "execute_result"
    }
   ],
   "source": [
    "#New one should have higher production\n",
    "df_by_machine = df.groupby([ColumnsInput.machine])[ColumnsInput.barcode].nunique().reset_index()\n",
    "col_c_machine = 'c_machine'\n",
    "df_by_machine[col_c_machine] = df_by_machine[ColumnsInput.machine].str.startswith('C')\n",
    "df_by_machine.groupby(col_c_machine)[ColumnsInput.barcode].mean()"
   ]
  },
  {
   "cell_type": "code",
   "execution_count": 30,
   "id": "d36c926c-71b5-492a-8e12-5f4d36b0bb50",
   "metadata": {
    "tags": []
   },
   "outputs": [
    {
     "data": {
      "text/plain": [
       "c_machine\n",
       "False    39\n",
       "True     45\n",
       "Name: ddc_ev_subcode, dtype: int64"
      ]
     },
     "execution_count": 30,
     "metadata": {},
     "output_type": "execute_result"
    }
   ],
   "source": [
    "#Curing time between sides will be different in new machines\n",
    "df.groupby([ColumnsOutput.c_machine])[ColumnsInput.event].nunique()"
   ]
  },
  {
   "cell_type": "code",
   "execution_count": 42,
   "id": "c99a456c-64a3-487e-9d39-a338e8de6dd1",
   "metadata": {
    "tags": []
   },
   "outputs": [
    {
     "ename": "AttributeError",
     "evalue": "'DataFrame' object has no attribute 'dt'",
     "output_type": "error",
     "traceback": [
      "\u001b[0;31m---------------------------------------------------------------------------\u001b[0m",
      "\u001b[0;31mAttributeError\u001b[0m                            Traceback (most recent call last)",
      "\u001b[0;32m/tmp/ipykernel_20/213327238.py\u001b[0m in \u001b[0;36m?\u001b[0;34m()\u001b[0m\n\u001b[0;32m----> 1\u001b[0;31m \u001b[0mdf\u001b[0m\u001b[0;34m.\u001b[0m\u001b[0mdt\u001b[0m\u001b[0;34m[\u001b[0m\u001b[0;34m'min'\u001b[0m\u001b[0;34m]\u001b[0m\u001b[0;34m\u001b[0m\u001b[0;34m\u001b[0m\u001b[0m\n\u001b[0m",
      "\u001b[0;32m/opt/conda/lib/python3.10/site-packages/pandas/core/generic.py\u001b[0m in \u001b[0;36m?\u001b[0;34m(self, name)\u001b[0m\n\u001b[1;32m   5571\u001b[0m             \u001b[0;32mand\u001b[0m \u001b[0mname\u001b[0m \u001b[0;32mnot\u001b[0m \u001b[0;32min\u001b[0m \u001b[0mself\u001b[0m\u001b[0;34m.\u001b[0m\u001b[0m_accessors\u001b[0m\u001b[0;34m\u001b[0m\u001b[0;34m\u001b[0m\u001b[0m\n\u001b[1;32m   5572\u001b[0m             \u001b[0;32mand\u001b[0m \u001b[0mself\u001b[0m\u001b[0;34m.\u001b[0m\u001b[0m_info_axis\u001b[0m\u001b[0;34m.\u001b[0m\u001b[0m_can_hold_identifiers_and_holds_name\u001b[0m\u001b[0;34m(\u001b[0m\u001b[0mname\u001b[0m\u001b[0;34m)\u001b[0m\u001b[0;34m\u001b[0m\u001b[0;34m\u001b[0m\u001b[0m\n\u001b[1;32m   5573\u001b[0m         ):\n\u001b[1;32m   5574\u001b[0m             \u001b[0;32mreturn\u001b[0m \u001b[0mself\u001b[0m\u001b[0;34m[\u001b[0m\u001b[0mname\u001b[0m\u001b[0;34m]\u001b[0m\u001b[0;34m\u001b[0m\u001b[0;34m\u001b[0m\u001b[0m\n\u001b[0;32m-> 5575\u001b[0;31m         \u001b[0;32mreturn\u001b[0m \u001b[0mobject\u001b[0m\u001b[0;34m.\u001b[0m\u001b[0m__getattribute__\u001b[0m\u001b[0;34m(\u001b[0m\u001b[0mself\u001b[0m\u001b[0;34m,\u001b[0m \u001b[0mname\u001b[0m\u001b[0;34m)\u001b[0m\u001b[0;34m\u001b[0m\u001b[0;34m\u001b[0m\u001b[0m\n\u001b[0m",
      "\u001b[0;31mAttributeError\u001b[0m: 'DataFrame' object has no attribute 'dt'"
     ]
    }
   ],
   "source": [
    "df.dt['min']"
   ]
  },
  {
   "cell_type": "code",
   "execution_count": 50,
   "id": "700265e5-b6dd-4aa3-990f-90afe4c0b5f1",
   "metadata": {
    "tags": []
   },
   "outputs": [
    {
     "data": {
      "text/plain": [
       "c_machine\n",
       "False    1112.444023\n",
       "True     1124.307647\n",
       "Name: delta_time, dtype: float64"
      ]
     },
     "execution_count": 50,
     "metadata": {},
     "output_type": "execute_result"
    }
   ],
   "source": [
    "df_min_max_time = df.groupby([ColumnsInput.machine,ColumnsOutput.c_machine,ColumnsInput.barcode])[ColumnsInput.time].agg(['min','max']).reset_index()\n",
    "col = 'delta_time'\n",
    "df_min_max_time[col] = (df_min_max_time['max'] - df_min_max_time['min']).dt.total_seconds()\n",
    "df_min_max_time.groupby(ColumnsOutput.c_machine)[col].mean()\n",
    "#df_min_max_time.groupby(ColumnsOutput.c_machine).mean()"
   ]
  },
  {
   "cell_type": "code",
   "execution_count": 37,
   "id": "7457aafd-e861-4a3c-8931-7e6491dcac99",
   "metadata": {
    "tags": []
   },
   "outputs": [
    {
     "data": {
      "text/plain": [
       "first                   last                 \n",
       "LO_LOADER_IN_PRESS      UN_FORK_OUT              1348\n",
       "                        UN_UNLOADER_OUT           703\n",
       "                        UN_TCR_DOWN                56\n",
       "CURING_OFF              UN_FORK_OUT                33\n",
       "                        UN_UNLOADER_OUT            24\n",
       "LO_LOADER_IN_PRESS      UN_TCR_UP_LMR_DOWN          6\n",
       "OP_PRESS_MOVEMENT_UP_3  UN_FORK_OUT                 6\n",
       "OP_PRESS_STOP_PAUSE_3   UN_FORK_OUT                 5\n",
       "CURING_OFF              UN_TCR_DOWN                 5\n",
       "LO_LOADER_IN_PRESS      UN_UNLOADER_UP              4\n",
       "                        UN_VACUUM                   4\n",
       "                        OP_PRESS_LOCKED             3\n",
       "                        OP_PRESS_STOP_PAUSE_3       3\n",
       "CL_PRESS_DOWN           UN_FORK_OUT                 2\n",
       "OP_SQUEEZE_OFF          UN_UNLOADER_OUT             2\n",
       "CURING_OFF              CURING_ON                   2\n",
       "LO_LOADER_IN_PRESS      OP_UNLOCK_PRESS             2\n",
       "OP_PRESS_MOVEMENT_UP_1  UN_FORK_OUT                 2\n",
       "CURING_ON               UN_UNLOADER_OUT             1\n",
       "OP_SQUEEZE_OFF          UN_FORK_OUT                 1\n",
       "UN_FORK_OUT             UN_TCR_DOWN                 1\n",
       "UN_VACUUM               UN_FORK_OUT                 1\n",
       "dtype: int64"
      ]
     },
     "execution_count": 37,
     "metadata": {},
     "output_type": "execute_result"
    }
   ],
   "source": [
    "df.sort_values(ColumnsInput.time).groupby(ColumnsInput.barcode)[ColumnsInput.event].agg(['first','last']).value_counts()"
   ]
  },
  {
   "cell_type": "code",
   "execution_count": null,
   "id": "e2b2a576-f90e-4439-9ab8-a18856d7a78b",
   "metadata": {},
   "outputs": [],
   "source": []
  }
 ],
 "metadata": {
  "availableInstances": [
   {
    "_defaultOrder": 0,
    "_isFastLaunch": true,
    "category": "General purpose",
    "gpuNum": 0,
    "hideHardwareSpecs": false,
    "memoryGiB": 4,
    "name": "ml.t3.medium",
    "vcpuNum": 2
   },
   {
    "_defaultOrder": 1,
    "_isFastLaunch": false,
    "category": "General purpose",
    "gpuNum": 0,
    "hideHardwareSpecs": false,
    "memoryGiB": 8,
    "name": "ml.t3.large",
    "vcpuNum": 2
   },
   {
    "_defaultOrder": 2,
    "_isFastLaunch": false,
    "category": "General purpose",
    "gpuNum": 0,
    "hideHardwareSpecs": false,
    "memoryGiB": 16,
    "name": "ml.t3.xlarge",
    "vcpuNum": 4
   },
   {
    "_defaultOrder": 3,
    "_isFastLaunch": false,
    "category": "General purpose",
    "gpuNum": 0,
    "hideHardwareSpecs": false,
    "memoryGiB": 32,
    "name": "ml.t3.2xlarge",
    "vcpuNum": 8
   },
   {
    "_defaultOrder": 4,
    "_isFastLaunch": true,
    "category": "General purpose",
    "gpuNum": 0,
    "hideHardwareSpecs": false,
    "memoryGiB": 8,
    "name": "ml.m5.large",
    "vcpuNum": 2
   },
   {
    "_defaultOrder": 5,
    "_isFastLaunch": false,
    "category": "General purpose",
    "gpuNum": 0,
    "hideHardwareSpecs": false,
    "memoryGiB": 16,
    "name": "ml.m5.xlarge",
    "vcpuNum": 4
   },
   {
    "_defaultOrder": 6,
    "_isFastLaunch": false,
    "category": "General purpose",
    "gpuNum": 0,
    "hideHardwareSpecs": false,
    "memoryGiB": 32,
    "name": "ml.m5.2xlarge",
    "vcpuNum": 8
   },
   {
    "_defaultOrder": 7,
    "_isFastLaunch": false,
    "category": "General purpose",
    "gpuNum": 0,
    "hideHardwareSpecs": false,
    "memoryGiB": 64,
    "name": "ml.m5.4xlarge",
    "vcpuNum": 16
   },
   {
    "_defaultOrder": 8,
    "_isFastLaunch": false,
    "category": "General purpose",
    "gpuNum": 0,
    "hideHardwareSpecs": false,
    "memoryGiB": 128,
    "name": "ml.m5.8xlarge",
    "vcpuNum": 32
   },
   {
    "_defaultOrder": 9,
    "_isFastLaunch": false,
    "category": "General purpose",
    "gpuNum": 0,
    "hideHardwareSpecs": false,
    "memoryGiB": 192,
    "name": "ml.m5.12xlarge",
    "vcpuNum": 48
   },
   {
    "_defaultOrder": 10,
    "_isFastLaunch": false,
    "category": "General purpose",
    "gpuNum": 0,
    "hideHardwareSpecs": false,
    "memoryGiB": 256,
    "name": "ml.m5.16xlarge",
    "vcpuNum": 64
   },
   {
    "_defaultOrder": 11,
    "_isFastLaunch": false,
    "category": "General purpose",
    "gpuNum": 0,
    "hideHardwareSpecs": false,
    "memoryGiB": 384,
    "name": "ml.m5.24xlarge",
    "vcpuNum": 96
   },
   {
    "_defaultOrder": 12,
    "_isFastLaunch": false,
    "category": "General purpose",
    "gpuNum": 0,
    "hideHardwareSpecs": false,
    "memoryGiB": 8,
    "name": "ml.m5d.large",
    "vcpuNum": 2
   },
   {
    "_defaultOrder": 13,
    "_isFastLaunch": false,
    "category": "General purpose",
    "gpuNum": 0,
    "hideHardwareSpecs": false,
    "memoryGiB": 16,
    "name": "ml.m5d.xlarge",
    "vcpuNum": 4
   },
   {
    "_defaultOrder": 14,
    "_isFastLaunch": false,
    "category": "General purpose",
    "gpuNum": 0,
    "hideHardwareSpecs": false,
    "memoryGiB": 32,
    "name": "ml.m5d.2xlarge",
    "vcpuNum": 8
   },
   {
    "_defaultOrder": 15,
    "_isFastLaunch": false,
    "category": "General purpose",
    "gpuNum": 0,
    "hideHardwareSpecs": false,
    "memoryGiB": 64,
    "name": "ml.m5d.4xlarge",
    "vcpuNum": 16
   },
   {
    "_defaultOrder": 16,
    "_isFastLaunch": false,
    "category": "General purpose",
    "gpuNum": 0,
    "hideHardwareSpecs": false,
    "memoryGiB": 128,
    "name": "ml.m5d.8xlarge",
    "vcpuNum": 32
   },
   {
    "_defaultOrder": 17,
    "_isFastLaunch": false,
    "category": "General purpose",
    "gpuNum": 0,
    "hideHardwareSpecs": false,
    "memoryGiB": 192,
    "name": "ml.m5d.12xlarge",
    "vcpuNum": 48
   },
   {
    "_defaultOrder": 18,
    "_isFastLaunch": false,
    "category": "General purpose",
    "gpuNum": 0,
    "hideHardwareSpecs": false,
    "memoryGiB": 256,
    "name": "ml.m5d.16xlarge",
    "vcpuNum": 64
   },
   {
    "_defaultOrder": 19,
    "_isFastLaunch": false,
    "category": "General purpose",
    "gpuNum": 0,
    "hideHardwareSpecs": false,
    "memoryGiB": 384,
    "name": "ml.m5d.24xlarge",
    "vcpuNum": 96
   },
   {
    "_defaultOrder": 20,
    "_isFastLaunch": false,
    "category": "General purpose",
    "gpuNum": 0,
    "hideHardwareSpecs": true,
    "memoryGiB": 0,
    "name": "ml.geospatial.interactive",
    "supportedImageNames": [
     "sagemaker-geospatial-v1-0"
    ],
    "vcpuNum": 0
   },
   {
    "_defaultOrder": 21,
    "_isFastLaunch": true,
    "category": "Compute optimized",
    "gpuNum": 0,
    "hideHardwareSpecs": false,
    "memoryGiB": 4,
    "name": "ml.c5.large",
    "vcpuNum": 2
   },
   {
    "_defaultOrder": 22,
    "_isFastLaunch": false,
    "category": "Compute optimized",
    "gpuNum": 0,
    "hideHardwareSpecs": false,
    "memoryGiB": 8,
    "name": "ml.c5.xlarge",
    "vcpuNum": 4
   },
   {
    "_defaultOrder": 23,
    "_isFastLaunch": false,
    "category": "Compute optimized",
    "gpuNum": 0,
    "hideHardwareSpecs": false,
    "memoryGiB": 16,
    "name": "ml.c5.2xlarge",
    "vcpuNum": 8
   },
   {
    "_defaultOrder": 24,
    "_isFastLaunch": false,
    "category": "Compute optimized",
    "gpuNum": 0,
    "hideHardwareSpecs": false,
    "memoryGiB": 32,
    "name": "ml.c5.4xlarge",
    "vcpuNum": 16
   },
   {
    "_defaultOrder": 25,
    "_isFastLaunch": false,
    "category": "Compute optimized",
    "gpuNum": 0,
    "hideHardwareSpecs": false,
    "memoryGiB": 72,
    "name": "ml.c5.9xlarge",
    "vcpuNum": 36
   },
   {
    "_defaultOrder": 26,
    "_isFastLaunch": false,
    "category": "Compute optimized",
    "gpuNum": 0,
    "hideHardwareSpecs": false,
    "memoryGiB": 96,
    "name": "ml.c5.12xlarge",
    "vcpuNum": 48
   },
   {
    "_defaultOrder": 27,
    "_isFastLaunch": false,
    "category": "Compute optimized",
    "gpuNum": 0,
    "hideHardwareSpecs": false,
    "memoryGiB": 144,
    "name": "ml.c5.18xlarge",
    "vcpuNum": 72
   },
   {
    "_defaultOrder": 28,
    "_isFastLaunch": false,
    "category": "Compute optimized",
    "gpuNum": 0,
    "hideHardwareSpecs": false,
    "memoryGiB": 192,
    "name": "ml.c5.24xlarge",
    "vcpuNum": 96
   },
   {
    "_defaultOrder": 29,
    "_isFastLaunch": true,
    "category": "Accelerated computing",
    "gpuNum": 1,
    "hideHardwareSpecs": false,
    "memoryGiB": 16,
    "name": "ml.g4dn.xlarge",
    "vcpuNum": 4
   },
   {
    "_defaultOrder": 30,
    "_isFastLaunch": false,
    "category": "Accelerated computing",
    "gpuNum": 1,
    "hideHardwareSpecs": false,
    "memoryGiB": 32,
    "name": "ml.g4dn.2xlarge",
    "vcpuNum": 8
   },
   {
    "_defaultOrder": 31,
    "_isFastLaunch": false,
    "category": "Accelerated computing",
    "gpuNum": 1,
    "hideHardwareSpecs": false,
    "memoryGiB": 64,
    "name": "ml.g4dn.4xlarge",
    "vcpuNum": 16
   },
   {
    "_defaultOrder": 32,
    "_isFastLaunch": false,
    "category": "Accelerated computing",
    "gpuNum": 1,
    "hideHardwareSpecs": false,
    "memoryGiB": 128,
    "name": "ml.g4dn.8xlarge",
    "vcpuNum": 32
   },
   {
    "_defaultOrder": 33,
    "_isFastLaunch": false,
    "category": "Accelerated computing",
    "gpuNum": 4,
    "hideHardwareSpecs": false,
    "memoryGiB": 192,
    "name": "ml.g4dn.12xlarge",
    "vcpuNum": 48
   },
   {
    "_defaultOrder": 34,
    "_isFastLaunch": false,
    "category": "Accelerated computing",
    "gpuNum": 1,
    "hideHardwareSpecs": false,
    "memoryGiB": 256,
    "name": "ml.g4dn.16xlarge",
    "vcpuNum": 64
   },
   {
    "_defaultOrder": 35,
    "_isFastLaunch": false,
    "category": "Accelerated computing",
    "gpuNum": 1,
    "hideHardwareSpecs": false,
    "memoryGiB": 61,
    "name": "ml.p3.2xlarge",
    "vcpuNum": 8
   },
   {
    "_defaultOrder": 36,
    "_isFastLaunch": false,
    "category": "Accelerated computing",
    "gpuNum": 4,
    "hideHardwareSpecs": false,
    "memoryGiB": 244,
    "name": "ml.p3.8xlarge",
    "vcpuNum": 32
   },
   {
    "_defaultOrder": 37,
    "_isFastLaunch": false,
    "category": "Accelerated computing",
    "gpuNum": 8,
    "hideHardwareSpecs": false,
    "memoryGiB": 488,
    "name": "ml.p3.16xlarge",
    "vcpuNum": 64
   },
   {
    "_defaultOrder": 38,
    "_isFastLaunch": false,
    "category": "Accelerated computing",
    "gpuNum": 8,
    "hideHardwareSpecs": false,
    "memoryGiB": 768,
    "name": "ml.p3dn.24xlarge",
    "vcpuNum": 96
   },
   {
    "_defaultOrder": 39,
    "_isFastLaunch": false,
    "category": "Memory Optimized",
    "gpuNum": 0,
    "hideHardwareSpecs": false,
    "memoryGiB": 16,
    "name": "ml.r5.large",
    "vcpuNum": 2
   },
   {
    "_defaultOrder": 40,
    "_isFastLaunch": false,
    "category": "Memory Optimized",
    "gpuNum": 0,
    "hideHardwareSpecs": false,
    "memoryGiB": 32,
    "name": "ml.r5.xlarge",
    "vcpuNum": 4
   },
   {
    "_defaultOrder": 41,
    "_isFastLaunch": false,
    "category": "Memory Optimized",
    "gpuNum": 0,
    "hideHardwareSpecs": false,
    "memoryGiB": 64,
    "name": "ml.r5.2xlarge",
    "vcpuNum": 8
   },
   {
    "_defaultOrder": 42,
    "_isFastLaunch": false,
    "category": "Memory Optimized",
    "gpuNum": 0,
    "hideHardwareSpecs": false,
    "memoryGiB": 128,
    "name": "ml.r5.4xlarge",
    "vcpuNum": 16
   },
   {
    "_defaultOrder": 43,
    "_isFastLaunch": false,
    "category": "Memory Optimized",
    "gpuNum": 0,
    "hideHardwareSpecs": false,
    "memoryGiB": 256,
    "name": "ml.r5.8xlarge",
    "vcpuNum": 32
   },
   {
    "_defaultOrder": 44,
    "_isFastLaunch": false,
    "category": "Memory Optimized",
    "gpuNum": 0,
    "hideHardwareSpecs": false,
    "memoryGiB": 384,
    "name": "ml.r5.12xlarge",
    "vcpuNum": 48
   },
   {
    "_defaultOrder": 45,
    "_isFastLaunch": false,
    "category": "Memory Optimized",
    "gpuNum": 0,
    "hideHardwareSpecs": false,
    "memoryGiB": 512,
    "name": "ml.r5.16xlarge",
    "vcpuNum": 64
   },
   {
    "_defaultOrder": 46,
    "_isFastLaunch": false,
    "category": "Memory Optimized",
    "gpuNum": 0,
    "hideHardwareSpecs": false,
    "memoryGiB": 768,
    "name": "ml.r5.24xlarge",
    "vcpuNum": 96
   },
   {
    "_defaultOrder": 47,
    "_isFastLaunch": false,
    "category": "Accelerated computing",
    "gpuNum": 1,
    "hideHardwareSpecs": false,
    "memoryGiB": 16,
    "name": "ml.g5.xlarge",
    "vcpuNum": 4
   },
   {
    "_defaultOrder": 48,
    "_isFastLaunch": false,
    "category": "Accelerated computing",
    "gpuNum": 1,
    "hideHardwareSpecs": false,
    "memoryGiB": 32,
    "name": "ml.g5.2xlarge",
    "vcpuNum": 8
   },
   {
    "_defaultOrder": 49,
    "_isFastLaunch": false,
    "category": "Accelerated computing",
    "gpuNum": 1,
    "hideHardwareSpecs": false,
    "memoryGiB": 64,
    "name": "ml.g5.4xlarge",
    "vcpuNum": 16
   },
   {
    "_defaultOrder": 50,
    "_isFastLaunch": false,
    "category": "Accelerated computing",
    "gpuNum": 1,
    "hideHardwareSpecs": false,
    "memoryGiB": 128,
    "name": "ml.g5.8xlarge",
    "vcpuNum": 32
   },
   {
    "_defaultOrder": 51,
    "_isFastLaunch": false,
    "category": "Accelerated computing",
    "gpuNum": 1,
    "hideHardwareSpecs": false,
    "memoryGiB": 256,
    "name": "ml.g5.16xlarge",
    "vcpuNum": 64
   },
   {
    "_defaultOrder": 52,
    "_isFastLaunch": false,
    "category": "Accelerated computing",
    "gpuNum": 4,
    "hideHardwareSpecs": false,
    "memoryGiB": 192,
    "name": "ml.g5.12xlarge",
    "vcpuNum": 48
   },
   {
    "_defaultOrder": 53,
    "_isFastLaunch": false,
    "category": "Accelerated computing",
    "gpuNum": 4,
    "hideHardwareSpecs": false,
    "memoryGiB": 384,
    "name": "ml.g5.24xlarge",
    "vcpuNum": 96
   },
   {
    "_defaultOrder": 54,
    "_isFastLaunch": false,
    "category": "Accelerated computing",
    "gpuNum": 8,
    "hideHardwareSpecs": false,
    "memoryGiB": 768,
    "name": "ml.g5.48xlarge",
    "vcpuNum": 192
   },
   {
    "_defaultOrder": 55,
    "_isFastLaunch": false,
    "category": "Accelerated computing",
    "gpuNum": 8,
    "hideHardwareSpecs": false,
    "memoryGiB": 1152,
    "name": "ml.p4d.24xlarge",
    "vcpuNum": 96
   },
   {
    "_defaultOrder": 56,
    "_isFastLaunch": false,
    "category": "Accelerated computing",
    "gpuNum": 8,
    "hideHardwareSpecs": false,
    "memoryGiB": 1152,
    "name": "ml.p4de.24xlarge",
    "vcpuNum": 96
   }
  ],
  "instance_type": "ml.t3.medium",
  "kernelspec": {
   "display_name": "Python 3 (Data Science 3.0)",
   "language": "python",
   "name": "python3__SAGEMAKER_INTERNAL__arn:aws:sagemaker:eu-west-1:470317259841:image/sagemaker-data-science-310-v1"
  },
  "language_info": {
   "codemirror_mode": {
    "name": "ipython",
    "version": 3
   },
   "file_extension": ".py",
   "mimetype": "text/x-python",
   "name": "python",
   "nbconvert_exporter": "python",
   "pygments_lexer": "ipython3",
   "version": "3.10.6"
  }
 },
 "nbformat": 4,
 "nbformat_minor": 5
}
